{
  "nbformat": 4,
  "nbformat_minor": 0,
  "metadata": {
    "colab": {
      "provenance": [],
      "gpuType": "T4",
      "authorship_tag": "ABX9TyPlKdWl4I577USwz4QOg6MN",
      "include_colab_link": true
    },
    "kernelspec": {
      "name": "python3",
      "display_name": "Python 3"
    },
    "language_info": {
      "name": "python"
    },
    "accelerator": "GPU"
  },
  "cells": [
    {
      "cell_type": "markdown",
      "metadata": {
        "id": "view-in-github",
        "colab_type": "text"
      },
      "source": [
        "<a href=\"https://colab.research.google.com/github/brownethan/colabInClass-gpu/blob/main/ColabGPUInClass.ipynb\" target=\"_parent\"><img src=\"https://colab.research.google.com/assets/colab-badge.svg\" alt=\"Open In Colab\"/></a>"
      ]
    },
    {
      "cell_type": "code",
      "execution_count": 1,
      "metadata": {
        "colab": {
          "base_uri": "https://localhost:8080/"
        },
        "id": "T3aZerdVLXxA",
        "outputId": "66b8db95-cea1-4ef6-9ea4-9cfc29501578"
      },
      "outputs": [
        {
          "output_type": "stream",
          "name": "stdout",
          "text": [
            "1.19 s ± 0 ns per loop (mean ± std. dev. of 1 run, 1 loop each)\n"
          ]
        }
      ],
      "source": [
        "import numpy as np\n",
        "size = 8192 * 8192\n",
        "array = np.random.random(size).astype(np.float32)\n",
        "%timeit -n 1 -r 1 result = np.sort(array)"
      ]
    },
    {
      "cell_type": "code",
      "source": [
        "import cupy as cp\n",
        "array_gpu = cp.asarray(array)\n",
        "%timeit -n 7 -r 1 result_gpu = cp.sort(array_gpu)"
      ],
      "metadata": {
        "colab": {
          "base_uri": "https://localhost:8080/"
        },
        "id": "YfDYwTXzLZ1_",
        "outputId": "40da3e0b-6c40-4893-f922-3fa11f83914c"
      },
      "execution_count": 2,
      "outputs": [
        {
          "output_type": "stream",
          "name": "stdout",
          "text": [
            "142 ms ± 0 ns per loop (mean ± std. dev. of 1 run, 7 loops each)\n"
          ]
        }
      ]
    },
    {
      "cell_type": "code",
      "source": [],
      "metadata": {
        "id": "8c7iwVobLfO9"
      },
      "execution_count": null,
      "outputs": []
    }
  ]
}